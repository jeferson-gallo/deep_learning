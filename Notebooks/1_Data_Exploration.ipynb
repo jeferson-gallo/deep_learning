{
 "cells": [
  {
   "cell_type": "markdown",
   "metadata": {},
   "source": [
    "# Information of online handwriting data\n"
   ]
  },
  {
   "cell_type": "markdown",
   "metadata": {},
   "source": [
    "## Libraries"
   ]
  },
  {
   "cell_type": "code",
   "execution_count": 1,
   "metadata": {},
   "outputs": [],
   "source": [
    "\n",
    "import os\n",
    "import pandas as pd\n",
    "import numpy as np\n",
    "import shutil\n",
    "\n"
   ]
  },
  {
   "cell_type": "code",
   "execution_count": 10,
   "metadata": {},
   "outputs": [],
   "source": [
    "def copy_files(df, src_path, dst_path):\n",
    "\n",
    "    for i in range(df.shape[0]):\n",
    "        file = df.loc[i, \"file\"]\n",
    "        src_file = os.path.join(src_path, file)\n",
    "        dst_file = os.path.join(dst_path, file)\n",
    "        shutil.copy2(src=src_file, dst=dst_file)\n",
    "        \n",
    "def create_dir(path):\n",
    "\n",
    "    dirs = path.split(\"/\")\n",
    "    n_path = \"\"\n",
    "    for i in range(len(dirs)):\n",
    "        \n",
    "        n_path = os.path.join(n_path, dirs[i])\n",
    "        # print(n_path)\n",
    "        a = os.path.isdir(n_path)   \n",
    "        # print(a) \n",
    "        if(not(a)):\n",
    "            os.mkdir(n_path) \n",
    "\n",
    "def select_session(df):\n",
    "\n",
    "    u_docid = df[\"docid\"].unique()\n",
    "    session_dict = {}\n",
    "    \n",
    "    for i in range(1,12):\n",
    "        session_dict[f\"S{i}\"] = i\n",
    "    \n",
    "    idx_list = []\n",
    "\n",
    "    for docid in u_docid:\n",
    "        \n",
    "        aux_df = df.loc[df[\"docid\"]==docid, :]\n",
    "        aux_df.loc[:, \"session\"] = aux_df[\"session\"].map(session_dict)\n",
    "        idx = aux_df.loc[aux_df[\"session\"]==aux_df[\"session\"].max(), :].index.values[0]\n",
    "        idx_list.append(idx)\n",
    "\n",
    "    return df.iloc[idx_list, :].reset_index(drop=True)\n",
    "\n",
    "def info_split(file):\n",
    "    docid, session = file.split(\"_\")[0:2]\n",
    "    return docid, session, file"
   ]
  },
  {
   "cell_type": "code",
   "execution_count": 12,
   "metadata": {},
   "outputs": [],
   "source": [
    "online_path = \"../Dataset/online_handwriting/\"\n",
    "selected_path = \"../Dataset/selected_files/\"\n",
    "\n",
    "\n",
    "task_list = os.listdir(os.path.join(online_path, \"pd\"))\n",
    "\n",
    "\n",
    "for task in task_list:\n",
    "\n",
    "    dst_path = os.path.join(selected_path, task)\n",
    "    create_dir(dst_path)\n",
    "\n",
    "    src_path = os.path.join(online_path, \"pd\", task)\n",
    "    pd_s = pd.Series(os.listdir(src_path))\n",
    "    pd_info_df = pd.DataFrame(list(pd_s.apply(info_split)), columns=[\"docid\", \"session\", \"file\"])\n",
    "    selected_pd_df = select_session(pd_info_df)\n",
    "    copy_files(selected_pd_df, src_path, dst_path)\n",
    "\n",
    "    src_path = os.path.join(online_path, \"hc\", task)\n",
    "    hc_s = pd.Series(os.listdir(src_path))\n",
    "    hc_info_df = pd.DataFrame(list(hc_s.apply(info_split)), columns=[\"docid\", \"session\", \"file\"])\n",
    "    selected_hc_df = select_session(hc_info_df)\n",
    "    copy_files(selected_hc_df, src_path, dst_path)\n",
    "\n"
   ]
  },
  {
   "cell_type": "code",
   "execution_count": 9,
   "metadata": {},
   "outputs": [
    {
     "data": {
      "text/plain": [
       "'087PD_S9_alphabet_online.txt'"
      ]
     },
     "execution_count": 9,
     "metadata": {},
     "output_type": "execute_result"
    }
   ],
   "source": []
  },
  {
   "cell_type": "code",
   "execution_count": 62,
   "metadata": {},
   "outputs": [
    {
     "name": "stdout",
     "output_type": "stream",
     "text": [
      "019EHC S1\n"
     ]
    }
   ],
   "source": [
    "\n",
    "\n",
    "\n",
    "\n",
    "    \n",
    "\n",
    "\n",
    "\n",
    "\n",
    "\n",
    "\n"
   ]
  }
 ],
 "metadata": {
  "kernelspec": {
   "display_name": "deep",
   "language": "python",
   "name": "python3"
  },
  "language_info": {
   "codemirror_mode": {
    "name": "ipython",
    "version": 3
   },
   "file_extension": ".py",
   "mimetype": "text/x-python",
   "name": "python",
   "nbconvert_exporter": "python",
   "pygments_lexer": "ipython3",
   "version": "3.9.19"
  }
 },
 "nbformat": 4,
 "nbformat_minor": 2
}
