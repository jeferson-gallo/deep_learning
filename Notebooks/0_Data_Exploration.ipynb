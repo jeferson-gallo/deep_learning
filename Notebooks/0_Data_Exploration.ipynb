{
 "cells": [
  {
   "cell_type": "markdown",
   "metadata": {},
   "source": [
    "# Information of online handwriting data\n"
   ]
  },
  {
   "cell_type": "markdown",
   "metadata": {},
   "source": [
    "## Libraries"
   ]
  },
  {
   "cell_type": "code",
   "execution_count": 6,
   "metadata": {},
   "outputs": [],
   "source": [
    "import os\n",
    "import pandas as pd\n",
    "import cv2\n"
   ]
  },
  {
   "cell_type": "markdown",
   "metadata": {},
   "source": [
    "## Functions"
   ]
  },
  {
   "cell_type": "code",
   "execution_count": 5,
   "metadata": {},
   "outputs": [],
   "source": [
    "def count_participants(p_list):\n",
    "    pd = 0\n",
    "    hc = 0\n",
    "    for file in p_list:\n",
    "        if (\"PD\" in file):\n",
    "            pd += 1\n",
    "        else:\n",
    "            hc += 1\n",
    "    return pd, hc\n"
   ]
  },
  {
   "cell_type": "markdown",
   "metadata": {},
   "source": [
    "## Count participants"
   ]
  },
  {
   "cell_type": "code",
   "execution_count": 7,
   "metadata": {},
   "outputs": [
    {
     "data": {
      "text/html": [
       "<div>\n",
       "<style scoped>\n",
       "    .dataframe tbody tr th:only-of-type {\n",
       "        vertical-align: middle;\n",
       "    }\n",
       "\n",
       "    .dataframe tbody tr th {\n",
       "        vertical-align: top;\n",
       "    }\n",
       "\n",
       "    .dataframe thead th {\n",
       "        text-align: right;\n",
       "    }\n",
       "</style>\n",
       "<table border=\"1\" class=\"dataframe\">\n",
       "  <thead>\n",
       "    <tr style=\"text-align: right;\">\n",
       "      <th></th>\n",
       "      <th>Tasks</th>\n",
       "      <th>PD</th>\n",
       "      <th>HC</th>\n",
       "    </tr>\n",
       "  </thead>\n",
       "  <tbody>\n",
       "    <tr>\n",
       "      <th>0</th>\n",
       "      <td>alphabet</td>\n",
       "      <td>71</td>\n",
       "      <td>55</td>\n",
       "    </tr>\n",
       "    <tr>\n",
       "      <th>1</th>\n",
       "      <td>line1</td>\n",
       "      <td>60</td>\n",
       "      <td>42</td>\n",
       "    </tr>\n",
       "    <tr>\n",
       "      <th>2</th>\n",
       "      <td>freewriting</td>\n",
       "      <td>73</td>\n",
       "      <td>54</td>\n",
       "    </tr>\n",
       "    <tr>\n",
       "      <th>3</th>\n",
       "      <td>house</td>\n",
       "      <td>75</td>\n",
       "      <td>55</td>\n",
       "    </tr>\n",
       "    <tr>\n",
       "      <th>4</th>\n",
       "      <td>rey</td>\n",
       "      <td>69</td>\n",
       "      <td>54</td>\n",
       "    </tr>\n",
       "    <tr>\n",
       "      <th>5</th>\n",
       "      <td>name</td>\n",
       "      <td>74</td>\n",
       "      <td>55</td>\n",
       "    </tr>\n",
       "    <tr>\n",
       "      <th>6</th>\n",
       "      <td>spiral</td>\n",
       "      <td>75</td>\n",
       "      <td>55</td>\n",
       "    </tr>\n",
       "  </tbody>\n",
       "</table>\n",
       "</div>"
      ],
      "text/plain": [
       "         Tasks  PD  HC\n",
       "0     alphabet  71  55\n",
       "1        line1  60  42\n",
       "2  freewriting  73  54\n",
       "3        house  75  55\n",
       "4          rey  69  54\n",
       "5         name  74  55\n",
       "6       spiral  75  55"
      ]
     },
     "execution_count": 7,
     "metadata": {},
     "output_type": "execute_result"
    }
   ],
   "source": [
    "db_path = \"../hw_drawings\"\n",
    "task_list = os.listdir(db_path)\n",
    "\n",
    "pd_count_list = []\n",
    "hc_count_list = []\n",
    "\n",
    "for task in task_list:\n",
    "    task_path = os.path.join(db_path, task)    \n",
    "    participants_list = os.listdir(task_path)\n",
    "    count_pd, count_hc = count_participants(participants_list)\n",
    "\n",
    "    pd_count_list.append(count_pd)\n",
    "    hc_count_list.append(count_hc)\n",
    "\n",
    "participants_info = pd.DataFrame([])\n",
    "participants_info[\"Tasks\"] = task_list\n",
    "participants_info[\"PD\"] = pd_count_list\n",
    "participants_info[\"HC\"] = hc_count_list\n",
    "\n",
    "\n",
    "participants_info\n",
    "\n"
   ]
  },
  {
   "cell_type": "markdown",
   "metadata": {},
   "source": [
    "# Print images"
   ]
  },
  {
   "cell_type": "code",
   "execution_count": null,
   "metadata": {},
   "outputs": [],
   "source": [
    "db_path = \"../hw_drawings\"\n",
    "task_list = os.listdir(db_path)\n",
    "\n",
    "pd_count_list = []\n",
    "hc_count_list = []\n",
    "\n",
    "for task in task_list:\n",
    "    task_path = os.path.join(db_path, task)    \n",
    "    participants_list = os.listdir(task_path)\n",
    "    count_pd, count_hc = count_participants(participants_list)\n",
    "\n",
    "    pd_count_list.append(count_pd)\n",
    "    hc_count_list.append(count_hc)\n",
    "\n",
    "participants_info = pd.DataFrame([])\n",
    "participants_info[\"Tasks\"] = task_list\n",
    "participants_info[\"PD\"] = pd_count_list\n",
    "participants_info[\"HC\"] = hc_count_list\n",
    "\n",
    "\n",
    "participants_info"
   ]
  }
 ],
 "metadata": {
  "kernelspec": {
   "display_name": "deep",
   "language": "python",
   "name": "python3"
  },
  "language_info": {
   "codemirror_mode": {
    "name": "ipython",
    "version": 3
   },
   "file_extension": ".py",
   "mimetype": "text/x-python",
   "name": "python",
   "nbconvert_exporter": "python",
   "pygments_lexer": "ipython3",
   "version": "3.9.19"
  }
 },
 "nbformat": 4,
 "nbformat_minor": 2
}
